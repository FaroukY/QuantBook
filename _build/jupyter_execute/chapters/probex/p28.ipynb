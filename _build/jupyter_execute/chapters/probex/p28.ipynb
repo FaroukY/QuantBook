{
 "cells": [
  {
   "cell_type": "markdown",
   "id": "29702e3b",
   "metadata": {},
   "source": [
    "# Problem 28: Runaway Sixes\n",
    "\n",
    "```{note}\n",
    "This problem requires some programming experience/environment\n",
    "```\n",
    "\n",
    "You roll a fair 6-sided die $n$ times. What is the probability that there is a run of at least $r$ consecutive sixes?\n",
    "\n",
    "````{dropdown} Click to show solution\n",
    "\n",
    "Let $p_n$ be the probability that a run of at least $r$ consecutive sixes occurs within $n$ independent rolls of a fair 6-sided die.\n",
    "\n",
    "**Base cases:**  \n",
    "Clearly, for $n < r$, the event is impossible:\n",
    "$$\n",
    "p_0 = p_1 = \\dots = p_{r-1} = 0.\n",
    "$$\n",
    "\n",
    "When $n = r$, the only way to get a run of $r$ sixes is if *all* $r$ rolls are sixes:\n",
    "$$\n",
    "p_r = \\left( \\frac{1}{6} \\right)^r.\n",
    "$$\n",
    "\n",
    "**Recurrence for $n \\ge r$:**  \n",
    "There are two disjoint ways that a run of $r$ sixes can occur in $n+1$ rolls:\n",
    "\n",
    "1. It already occurred within the first $n$ rolls. This contributes $p_n$.\n",
    "\n",
    "2. It occurs *for the first time* ending at position $n+1$.  \n",
    "   For this to happen:\n",
    "\n",
    "   - The first $n - r$ rolls must avoid any run of $r$ sixes: probability $1 - p_{n - r}$.\n",
    "   - The $(n - r + 1)$-th roll must *not* be a six: probability $5/6$.\n",
    "   - The next $r$ rolls must all be sixes: probability $(1/6)^r$.\n",
    "\n",
    "   So this contributes:\n",
    "   $$\n",
    "   (1 - p_{n - r}) \\cdot \\frac{5}{6} \\cdot \\left( \\frac{1}{6} \\right)^r.\n",
    "   $$\n",
    "\n",
    "Putting it together:\n",
    "$$\n",
    "p_{n+1} = p_n + (1 - p_{n - r}) \\cdot \\frac{5}{6} \\cdot \\frac{1}{6^r}.\n",
    "$$\n",
    "\n",
    "Now we compute the value.\n",
    "\n",
    "````"
   ]
  },
  {
   "cell_type": "code",
   "execution_count": 1,
   "id": "1bdb7d6a",
   "metadata": {
    "tags": [
     "hide-input",
     "hide-output"
    ]
   },
   "outputs": [
    {
     "name": "stdout",
     "output_type": "stream",
     "text": [
      "Probability of a run of at least 4 sixes in 100 rolls: 0.060754\n"
     ]
    }
   ],
   "source": [
    "r = 4\n",
    "n = 100\n",
    "p = [0] * (n + 2)\n",
    "p[r] = 1 / (6 ** r)\n",
    "for i in range(r, n):\n",
    "    p[i + 1] = p[i] + (1 - p[i - r]) * (5 / 6) * (1 / (6 ** r))\n",
    "print(f\"Probability of a run of at least {r} sixes in {n} rolls: {round(p[100], 6)}\")"
   ]
  }
 ],
 "metadata": {
  "jupytext": {
   "text_representation": {
    "format_name": "myst"
   }
  },
  "kernelspec": {
   "display_name": "Python 3",
   "name": "python3"
  },
  "language_info": {
   "codemirror_mode": {
    "name": "ipython",
    "version": 3
   },
   "file_extension": ".py",
   "mimetype": "text/x-python",
   "name": "python",
   "nbconvert_exporter": "python",
   "pygments_lexer": "ipython3",
   "version": "3.12.4"
  },
  "source_map": [
   8,
   59
  ]
 },
 "nbformat": 4,
 "nbformat_minor": 5
}